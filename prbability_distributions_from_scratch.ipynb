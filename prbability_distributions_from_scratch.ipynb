{
 "cells": [
  {
   "cell_type": "code",
   "execution_count": 52,
   "id": "3c3279a1-2932-40de-85ba-0cd77ba80d20",
   "metadata": {},
   "outputs": [],
   "source": [
    "import matplotlib.pyplot as plt\n",
    "import ipywidgets as widgets\n",
    "from IPython.display import display\n",
    "import math"
   ]
  },
  {
   "cell_type": "markdown",
   "id": "10ce23a5-e3d1-48bf-929d-4def204f6d7f",
   "metadata": {},
   "source": [
    "## Bernoulli Random Variable\n",
    "### X~Bern(p)\n",
    "**Description:** A boolean variable that has success/1 with probability 1\n",
    "<br>**PMF:** $P(X = x) =\n",
    "\\begin{cases}\n",
    "p & \\text{if } x = 1 \\\\\n",
    "1 - p & \\text{if } x = 0\n",
    "\\end{cases}   =   p^x (1 - p)^{1 - x}$\n",
    "\n",
    "\n",
    "<br>**Expectation:** $E[X]=p$\n",
    "\n",
    "\n"
   ]
  },
  {
   "cell_type": "code",
   "execution_count": 17,
   "id": "e41072a0-0681-4ff5-9807-4e7105fd443f",
   "metadata": {},
   "outputs": [],
   "source": [
    "p=0.5 # probability, a parameter\n",
    "X=[0,1]\n",
    "def pmf_bernoulli(x, p):\n",
    "    return p**x*(1-p)**(1-x)"
   ]
  },
  {
   "cell_type": "code",
   "execution_count": 50,
   "id": "a26e0b20-a6da-41f5-ba32-251907e174c9",
   "metadata": {},
   "outputs": [
    {
     "name": "stdout",
     "output_type": "stream",
     "text": [
      "PMF Graph\n",
      "\n"
     ]
    },
    {
     "data": {
      "application/vnd.jupyter.widget-view+json": {
       "model_id": "12e12b0ecafd4cc8be7e5b31dbb229e2",
       "version_major": 2,
       "version_minor": 0
      },
      "text/plain": [
       "interactive(children=(BoundedFloatText(value=0.2, description='Parameter: p', layout=Layout(width='150px'), ma…"
      ]
     },
     "execution_count": 50,
     "metadata": {},
     "output_type": "execute_result"
    }
   ],
   "source": [
    "# Create a function to update the plot\n",
    "plt.Figure(figsize=(9,9))\n",
    "def update_plot(p):\n",
    "    X = [0, 1]\n",
    "    pmf = [pmf_bernoulli(x, p) for x in X]\n",
    "    plt.bar(X, pmf,width=0.3)\n",
    "    plt.title(f'Bernoulli Probability Distribution @ success rate of {p}')\n",
    "    plt.yticks(np.linspace(0,1,11))\n",
    "    plt.xticks(X)\n",
    "    plt.xlabel('Values that X can take on')\n",
    "    plt.ylabel('Probability')\n",
    "    # plt.grid('off')\n",
    "    plt.show()\n",
    "\n",
    "# Create a text box widget for p\n",
    "p_textbox = widgets.BoundedFloatText(\n",
    "    value=0.2,\n",
    "    min=0,\n",
    "    max=1,\n",
    "    step=0.1,\n",
    "    description='Parameter: p',\n",
    "    disabled=False,\n",
    "    layout=widgets.Layout(width='150px') \n",
    ")\n",
    "\n",
    "# Display the text box and the plot\n",
    "print(\"PMF Graph\\n\")\n",
    "widgets.interactive(update_plot, p=p_textbox)\n"
   ]
  },
  {
   "cell_type": "markdown",
   "id": "fd106820-7420-4ea6-bf5e-961125c706c3",
   "metadata": {},
   "source": [
    "## Binomial Distribution\n",
    "#### X~Bin(n,p)\n",
    "**Description:** Number of \"Successes or Heads or 1s or Yes's\" in *n* identical experiments each with probability of success *p*.\n",
    "<br>**PMF:** $P(X=x) =  \\binom{n}{x} p^x (1 - p)^{n - x} $\n",
    "<br>**Parameters:** \n",
    "1. p in range {0,1}\n",
    "2. n in range {0,1,2,..}\n",
    "3. x in range {0,1,2,3,...n}\n",
    "   \n",
    "<br>**Expectation:** $E[X]=np$\n",
    "\n",
    "<br><br> Note: Bernoulli distribution is just Binomial distribution with just single experiment. i.e n = 1.\n"
   ]
  },
  {
   "cell_type": "code",
   "execution_count": 107,
   "id": "2e5d0085-8293-48de-a50e-7528883899e5",
   "metadata": {},
   "outputs": [
    {
     "data": {
      "application/vnd.jupyter.widget-view+json": {
       "model_id": "aa9d45e1dd9a4fd68348c252a6e6715e",
       "version_major": 2,
       "version_minor": 0
      },
      "text/plain": [
       "VBox(children=(BoundedIntText(value=10, description='n', layout=Layout(width='200px'), min=1), BoundedFloatTex…"
      ]
     },
     "metadata": {},
     "output_type": "display_data"
    },
    {
     "data": {
      "application/vnd.jupyter.widget-view+json": {
       "model_id": "8a1484edd41140b09d095d3f695307a6",
       "version_major": 2,
       "version_minor": 0
      },
      "text/plain": [
       "Output()"
      ]
     },
     "metadata": {},
     "output_type": "display_data"
    }
   ],
   "source": [
    "def pmf_binomial(n, p, x):\n",
    "    return math.comb(n, x) * p**x * (1-p)**(n-x)\n",
    "\n",
    "def expectation(n, p, X):\n",
    "    P_x = np.array([pmf_binomial(n,p,x) for x in X])\n",
    "    return sum(X*P_x)\n",
    "\n",
    "def update_plot(n, p):\n",
    "    plt.figure(figsize=(8, 3))\n",
    "    X = np.arange(0, n + 1)\n",
    "    pmf = np.array([pmf_binomial(n, p, k) for k in X])\n",
    "    plt.bar(X, pmf, alpha=1, color='blue')\n",
    "    plt.title(f'Binomial Distribution with Number of Experiments (n={n}),and Probability of Success (p={p})')\n",
    "    plt.xlabel('Number of probable successes')\n",
    "    plt.ylabel('Probability')\n",
    "    plt.yticks(np.linspace(0, 1, 11))\n",
    "    plt.xticks(X)\n",
    "    plt.grid(axis='both')\n",
    "    plt.show()\n",
    "\n",
    "    # Calculate and display the expectation value\n",
    "    exp_value = expectation(n,p, X)\n",
    "    expectation_text.value = f'Expectation Value: {exp_value:.2f}'\n",
    "\n",
    "# Create text box widgets for n and p with specified sizes\n",
    "n_textbox = widgets.BoundedIntText(\n",
    "    value=10,\n",
    "    min=1,\n",
    "    max=100,\n",
    "    step=1,\n",
    "    description='n',\n",
    "    disabled=False,\n",
    "    layout=widgets.Layout(width='200px')  # Set the width of the text box\n",
    ")\n",
    "\n",
    "p_textbox = widgets.BoundedFloatText(\n",
    "    value=0.5,\n",
    "    min=0,\n",
    "    max=1,\n",
    "    step=0.1,\n",
    "    description='p',\n",
    "    disabled=False,\n",
    "    layout=widgets.Layout(width='200px')  # Set the width of the text box\n",
    ")\n",
    "\n",
    "# Create a widget to display the expectation value\n",
    "expectation_text = widgets.HTML(value=f'Expectation Value: {expectation(n_textbox.value, p_textbox.value, X):.2f}')\n",
    "\n",
    "# Create a VBox layout for text boxes and expectation value\n",
    "ui = widgets.VBox([n_textbox, p_textbox, expectation_text])\n",
    "\n",
    "# Display the text boxes, expectation value, and the plot\n",
    "display(ui)\n",
    "\n",
    "# Use interactive_output to link the widgets to the update_plot function without duplicating boxes\n",
    "out = widgets.interactive_output(update_plot, {'n': n_textbox, 'p': p_textbox})\n",
    "\n",
    "# Display the interactive output\n",
    "display(out)"
   ]
  }
 ],
 "metadata": {
  "kernelspec": {
   "display_name": "Python 3 (ipykernel)",
   "language": "python",
   "name": "python3"
  },
  "language_info": {
   "codemirror_mode": {
    "name": "ipython",
    "version": 3
   },
   "file_extension": ".py",
   "mimetype": "text/x-python",
   "name": "python",
   "nbconvert_exporter": "python",
   "pygments_lexer": "ipython3",
   "version": "3.12.2"
  }
 },
 "nbformat": 4,
 "nbformat_minor": 5
}
